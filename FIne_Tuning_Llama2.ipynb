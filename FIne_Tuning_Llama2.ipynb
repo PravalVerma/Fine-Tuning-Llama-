{
  "nbformat": 4,
  "nbformat_minor": 0,
  "metadata": {
    "colab": {
      "provenance": [],
      "gpuType": "T4",
      "toc_visible": true
    },
    "kernelspec": {
      "name": "python3",
      "display_name": "Python 3"
    },
    "language_info": {
      "name": "python"
    },
    "accelerator": "GPU"
    
  },
  "cells": [
    {
      "cell_type": "code",
      "execution_count": null,
      "metadata": {
        "colab": {
          "base_uri": "https://localhost:8080/"
        },
        "id": "XT9G41KK2ykb",
        "outputId": "f85cbbf5-ef57-451b-f00a-6f7d74969821"
      },
      "outputs": [
        {
          "output_type": "stream",
          "name": "stdout",
          "text": [
            "\u001b[2K     \u001b[90m━━━━━━━━━━━━━━━━━━━━━━━━━━━━━━━━━━━━━━━━\u001b[0m \u001b[32m116.9/116.9 kB\u001b[0m \u001b[31m10.2 MB/s\u001b[0m eta \u001b[36m0:00:00\u001b[0m\n",
            "\u001b[2K   \u001b[90m━━━━━━━━━━━━━━━━━━━━━━━━━━━━━━━━━━━━━━━━\u001b[0m \u001b[32m244.2/244.2 kB\u001b[0m \u001b[31m21.6 MB/s\u001b[0m eta \u001b[36m0:00:00\u001b[0m\n",
            "\u001b[2K   \u001b[90m━━━━━━━━━━━━━━━━━━━━━━━━━━━━━━━━━━━━━━━━\u001b[0m \u001b[32m72.9/72.9 kB\u001b[0m \u001b[31m6.9 MB/s\u001b[0m eta \u001b[36m0:00:00\u001b[0m\n",
            "\u001b[2K   \u001b[90m━━━━━━━━━━━━━━━━━━━━━━━━━━━━━━━━━━━━━━━━\u001b[0m \u001b[32m92.5/92.5 MB\u001b[0m \u001b[31m9.8 MB/s\u001b[0m eta \u001b[36m0:00:00\u001b[0m\n",
            "\u001b[2K   \u001b[90m━━━━━━━━━━━━━━━━━━━━━━━━━━━━━━━━━━━━━━━━\u001b[0m \u001b[32m7.4/7.4 MB\u001b[0m \u001b[31m86.7 MB/s\u001b[0m eta \u001b[36m0:00:00\u001b[0m\n",
            "\u001b[2K   \u001b[90m━━━━━━━━━━━━━━━━━━━━━━━━━━━━━━━━━━━━━━━━\u001b[0m \u001b[32m77.4/77.4 kB\u001b[0m \u001b[31m6.5 MB/s\u001b[0m eta \u001b[36m0:00:00\u001b[0m\n",
            "\u001b[2K   \u001b[90m━━━━━━━━━━━━━━━━━━━━━━━━━━━━━━━━━━━━━━━━\u001b[0m \u001b[32m7.8/7.8 MB\u001b[0m \u001b[31m82.1 MB/s\u001b[0m eta \u001b[36m0:00:00\u001b[0m\n",
            "\u001b[2K   \u001b[90m━━━━━━━━━━━━━━━━━━━━━━━━━━━━━━━━━━━━━━━━\u001b[0m \u001b[32m480.6/480.6 kB\u001b[0m \u001b[31m31.0 MB/s\u001b[0m eta \u001b[36m0:00:00\u001b[0m\n",
            "\u001b[2K   \u001b[90m━━━━━━━━━━━━━━━━━━━━━━━━━━━━━━━━━━━━━━━━\u001b[0m \u001b[32m116.3/116.3 kB\u001b[0m \u001b[31m7.7 MB/s\u001b[0m eta \u001b[36m0:00:00\u001b[0m\n",
            "\u001b[2K   \u001b[90m━━━━━━━━━━━━━━━━━━━━━━━━━━━━━━━━━━━━━━━━\u001b[0m \u001b[32m179.3/179.3 kB\u001b[0m \u001b[31m14.5 MB/s\u001b[0m eta \u001b[36m0:00:00\u001b[0m\n",
            "\u001b[2K   \u001b[90m━━━━━━━━━━━━━━━━━━━━━━━━━━━━━━━━━━━━━━━━\u001b[0m \u001b[32m134.8/134.8 kB\u001b[0m \u001b[31m11.4 MB/s\u001b[0m eta \u001b[36m0:00:00\u001b[0m\n",
            "\u001b[2K   \u001b[90m━━━━━━━━━━━━━━━━━━━━━━━━━━━━━━━━━━━━━━━━\u001b[0m \u001b[32m194.1/194.1 kB\u001b[0m \u001b[31m15.5 MB/s\u001b[0m eta \u001b[36m0:00:00\u001b[0m\n",
            "\u001b[?25h\u001b[31mERROR: pip's dependency resolver does not currently take into account all the packages that are installed. This behaviour is the source of the following dependency conflicts.\n",
            "gcsfs 2024.10.0 requires fsspec==2024.10.0, but you have fsspec 2024.9.0 which is incompatible.\n",
            "sentence-transformers 3.2.1 requires transformers<5.0.0,>=4.41.0, but you have transformers 4.31.0 which is incompatible.\u001b[0m\u001b[31m\n",
            "\u001b[0m"
          ]
        }
      ],
      "source": [
        "!pip install -q accelerate==0.21.0 peft==0.4.0 bitsandbytes==0.40.2 transformers==4.31.0 trl==0.4.7"
      ]
    },
    {
      "cell_type": "code",
      "source": [
        "import os\n",
        "import torch\n",
        "from datasets import load_dataset\n",
        "from transformers import (\n",
        "    AutoModelForCausalLM,\n",
        "    AutoTokenizer,\n",
        "    BitsAndBytesConfig,\n",
        "    HfArgumentParser,\n",
        "    TrainingArguments,\n",
        "    pipeline,\n",
        "    logging,\n",
        ")\n",
        "from peft import LoraConfig, PeftModel\n",
        "from trl import SFTTrainer"
      ],
      "metadata": {
        "id": "ZGqo-ccd4xy7"
      },
      "execution_count": null,
      "outputs": []
    },
    {
      "cell_type": "code",
      "source": [
        "# The model that you want to train from the Hugging Face hub\n",
        "model_name = \"NousResearch/Llama-2-7b-chat-hf\"\n",
        "\n",
        "# The instruction dataset to use\n",
        "dataset_name = \"mlabonne/guanaco-llama2-1k\"\n",
        "\n",
        "# Fine-tuned model name\n",
        "new_model = \"Llama-2-7b-chat-finetune\"\n",
        "\n",
        "################################################################################\n",
        "# QLoRA parameters\n",
        "################################################################################\n",
        "\n",
        "# LoRA attention dimension\n",
        "lora_r = 64\n",
        "\n",
        "# Alpha parameter for LoRA scaling\n",
        "lora_alpha = 16\n",
        "\n",
        "# Dropout probability for LoRA layers\n",
        "lora_dropout = 0.1\n",
        "\n",
        "################################################################################\n",
        "# bitsandbytes parameters\n",
        "################################################################################\n",
        "\n",
        "# Activate 4-bit precision base model loading\n",
        "use_4bit = True\n",
        "\n",
        "# Compute dtype for 4-bit base models\n",
        "bnb_4bit_compute_dtype = \"float16\"\n",
        "\n",
        "# Quantization type (fp4 or nf4)\n",
        "bnb_4bit_quant_type = \"nf4\"\n",
        "\n",
        "# Activate nested quantization for 4-bit base models (double quantization)\n",
        "use_nested_quant = False\n",
        "\n",
        "################################################################################\n",
        "# TrainingArguments parameters\n",
        "################################################################################\n",
        "\n",
        "# Output directory where the model predictions and checkpoints will be stored\n",
        "output_dir = \"./results\"\n",
        "\n",
        "# Number of training epochs\n",
        "num_train_epochs = 1\n",
        "\n",
        "# Enable fp16/bf16 training (set bf16 to True with an A100)\n",
        "fp16 = False\n",
        "bf16 = False\n",
        "\n",
        "# Batch size per GPU for training\n",
        "per_device_train_batch_size = 4\n",
        "\n",
        "# Batch size per GPU for evaluation\n",
        "per_device_eval_batch_size = 4\n",
        "\n",
        "# Number of update steps to accumulate the gradients for\n",
        "gradient_accumulation_steps = 1\n",
        "\n",
        "# Enable gradient checkpointing\n",
        "gradient_checkpointing = True\n",
        "\n",
        "# Maximum gradient normal (gradient clipping)\n",
        "max_grad_norm = 0.3\n",
        "\n",
        "# Initial learning rate (AdamW optimizer)\n",
        "learning_rate = 2e-4\n",
        "\n",
        "# Weight decay to apply to all layers except bias/LayerNorm weights\n",
        "weight_decay = 0.001\n",
        "\n",
        "# Optimizer to use\n",
        "optim = \"paged_adamw_32bit\"\n",
        "\n",
        "# Learning rate schedule\n",
        "lr_scheduler_type = \"cosine\"\n",
        "\n",
        "# Number of training steps (overrides num_train_epochs)\n",
        "max_steps = -1\n",
        "\n",
        "# Ratio of steps for a linear warmup (from 0 to learning rate)\n",
        "warmup_ratio = 0.03\n",
        "\n",
        "# Group sequences into batches with same length\n",
        "# Saves memory and speeds up training considerably\n",
        "group_by_length = True\n",
        "\n",
        "# Save checkpoint every X updates steps\n",
        "save_steps = 0\n",
        "\n",
        "# Log every X updates steps\n",
        "logging_steps = 25\n",
        "\n",
        "################################################################################\n",
        "# SFT parameters\n",
        "################################################################################\n",
        "\n",
        "# Maximum sequence length to use\n",
        "max_seq_length = None\n",
        "\n",
        "# Pack multiple short examples in the same input sequence to increase efficiency\n",
        "packing = False\n",
        "\n",
        "# Load the entire model on the GPU 0\n",
        "device_map = {\"\": 0}"
      ],
      "metadata": {
        "id": "qz6cEydj8NO6"
      },
      "execution_count": null,
      "outputs": []
    },
    {
      "cell_type": "code",
      "source": [
        "# Load dataset (you can process it here)\n",
        "dataset = load_dataset(dataset_name, split=\"train\")\n",
        "\n",
        "# Load tokenizer and model with QLoRA configuration\n",
        "compute_dtype = getattr(torch, bnb_4bit_compute_dtype)\n",
        "\n",
        "bnb_config = BitsAndBytesConfig(\n",
        "    load_in_4bit=use_4bit,\n",
        "    bnb_4bit_quant_type=bnb_4bit_quant_type,\n",
        "    bnb_4bit_compute_dtype=compute_dtype,\n",
        "    bnb_4bit_use_double_quant=use_nested_quant,\n",
        ")\n",
        "\n",
        "# Check GPU compatibility with bfloat16\n",
        "if compute_dtype == torch.float16 and use_4bit:\n",
        "    major, _ = torch.cuda.get_device_capability()\n",
        "    if major >= 8:\n",
        "        print(\"=\" * 80)\n",
        "        print(\"Your GPU supports bfloat16: accelerate training with bf16=True\")\n",
        "        print(\"=\" * 80)\n",
        "\n",
        "# Load base model\n",
        "model = AutoModelForCausalLM.from_pretrained(\n",
        "    model_name,\n",
        "    quantization_config=bnb_config,\n",
        "    device_map=device_map\n",
        ")\n",
        "model.config.use_cache = False\n",
        "model.config.pretraining_tp = 1\n",
        "\n",
        "# Load LLaMA tokenizer\n",
        "tokenizer = AutoTokenizer.from_pretrained(model_name, trust_remote_code=True)\n",
        "tokenizer.pad_token = tokenizer.eos_token\n",
        "tokenizer.padding_side = \"right\" # Fix weird overflow issue with fp16 training\n",
        "\n",
        "# Load LoRA configuration\n",
        "peft_config = LoraConfig(\n",
        "    lora_alpha=lora_alpha,\n",
        "    lora_dropout=lora_dropout,\n",
        "    r=lora_r,\n",
        "    bias=\"none\",\n",
        "    task_type=\"CAUSAL_LM\",\n",
        ")\n",
        "\n",
        "# Set training parameters\n",
        "training_arguments = TrainingArguments(\n",
        "    output_dir=output_dir,\n",
        "    num_train_epochs=num_train_epochs,\n",
        "    per_device_train_batch_size=per_device_train_batch_size,\n",
        "    gradient_accumulation_steps=gradient_accumulation_steps,\n",
        "    optim=optim,\n",
        "    save_steps=save_steps,\n",
        "    logging_steps=logging_steps,\n",
        "    learning_rate=learning_rate,\n",
        "    weight_decay=weight_decay,\n",
        "    fp16=fp16,\n",
        "    bf16=bf16,\n",
        "    max_grad_norm=max_grad_norm,\n",
        "    max_steps=max_steps,\n",
        "    warmup_ratio=warmup_ratio,\n",
        "    group_by_length=group_by_length,\n",
        "    lr_scheduler_type=lr_scheduler_type,\n",
        "    report_to=\"tensorboard\"\n",
        ")\n",
        "\n",
        "# Set supervised fine-tuning parameters\n",
        "trainer = SFTTrainer(\n",
        "    model=model,\n",
        "    train_dataset=dataset,\n",
        "    peft_config=peft_config,\n",
        "    dataset_text_field=\"text\",\n",
        "    max_seq_length=max_seq_length,\n",
        "    tokenizer=tokenizer,\n",
        "    args=training_arguments,\n",
        "    packing=packing,\n",
        ")\n",
        "\n",
        "# Train model\n",
        "trainer.train()"
      ],
      "metadata": {
        "colab": {
          "base_uri": "https://localhost:8080/",
          "height": 1000,
          "referenced_widgets": [
            "d19c78ab9e694e46b928756c1b3bea9a",
            "1e5fef9680f54441aa2f439244d463e8",
            "b48d500f71d54f3098f264a7c179f187",
            "c9db728f27834a2d936663b2213e1913",
            "2f910d10075e4d49a95cc1c101123e0c",
            "d969d96ff14146d18e4db59aaac673c7",
            "f25007b870544897a53571e5700d14cb",
            "32b0bb6677304530b018f1a1f7bde504",
            "dfcc1d6d799f41d5a4dfb3710d5a37e8",
            "7d9a537800de474fbce652d19b9fb838",
            "aa18fd3d0d4b4dcf95dd1091cca06497",
            "108e75239508439d9e12933077f942d4",
            "744e034a52f845328295d058bb2e3214",
            "969af28531844ae89aea8b387cfe4979",
            "45441ae14c3c4334bb8231dbb34feba2",
            "1d59ba92ed7d440ab06d22574bf9c5fa",
            "412855dd48d04b19b60683a7905660e3",
            "e0b8e6ccfbed470c8c557259e3a1b453",
            "5dbd16d36538468cbbd4ae980a8f728c",
            "060a76f124dd4d579407b037091c8b46",
            "ca19b42cf31649f38dbc7e71b3b09782",
            "9eeb277f83db489ba37d95b505315f33",
            "16a00ac54e1c4feb82125f92ef542303",
            "c87ec1f6af394598ba20060c7cf76056",
            "dbcd427bd67f46fc949d18d5902cb59f",
            "e101bb52976d436faaeb3022d4d1a666",
            "3e4a54652f8f45acb5e5e695afbe162d",
            "1b7f00222c0748f5a90963b42fb4a0eb",
            "02c1af824cfe4722be95cee33cc28fcd",
            "22f237844f344f7c856561085fde1e82",
            "ad2f8b30225c421794d89d1b6f6ad916",
            "414cb87c47ea48bf98f84e77ce783fce",
            "cf2e2b424c594242b945c6f8cf3e532a",
            "8bb21f6f84e841cbaa59629466764653",
            "08820718bafa4ee0b228cadb34875524",
            "4dacd1de8acf4d739d905673d2f68704",
            "66ebcc9e188340818833a0d267d43de0",
            "686c64d243cc4b52a134d3effae50dbb",
            "598910623d8f4d438d270e23749cb623",
            "afb02715accb49c88eada791e2a7e438",
            "9b1a886b9ea54c69a0a8c7f76f265b27",
            "d5bd558d6f2745ce90811f35b44ded16",
            "3bbe2db0273044908e48e636b39a8c61",
            "63dfb42f8f45491985431008588f5ba7",
            "a83b217bbce54caba9e96d05d1106e50",
            "789321625e0c45a2bdddaa32ac5473cc",
            "ed2fc0945ecf42d6b661dd8347e75857",
            "f0aa992a8b9a47c8b184068f77a065b3",
            "f33479adda174decb533fb3fb61d8f0a",
            "d4d717005c0841b28169ed2d534c50a4",
            "b256aae46eeb43159a3a3bc80f287d30",
            "d3caa75f6b0a47bfbc1a0ce257aec0ac",
            "80d6ba8cf4c3406d8ffa8a8058277892",
            "a9fbc6a95d5e474f8a4539c1211fac5d",
            "1f046bf429a246d68e4d9991959f6950",
            "a347fecf62a344cdafb234a50c79b8f0",
            "223b5c729a0e4ab99a04d2ad524c28ba",
            "0c33d2c435dd46d79009d5716695a8cf",
            "ab141e73360d4520bc47ea40c6dec7e1",
            "117f9414ae8e4778a345439ce89f68ed",
            "c20e5e95ac1b43919ec784d1040c1fdf",
            "f1c02a4a054a41e3a9c5ce44a5689db9",
            "a0c2614e5e834da6a3c36ecda71b4373",
            "d11686e9423244f2bd7b57ee6796718e",
            "03fab20f3b1d415895a0272bfb7894b6",
            "4e1b1efdf80b4f9c91eb50fd142d077a",
            "016e1aaaf81644d69eccb1358179c015",
            "7a7c48a54d1c4ed2aa3e213b6880accf",
            "1a714e68e1cb4ee0978fcc52a7956c5e",
            "42e5547a3e384751bcff252a24082572",
            "e73913a6bef341868194da99d3412649",
            "9c5a6b3084b54155a4534ed34dbf4156",
            "c15eeadad5ac4a4aa81be6a76213c0c3",
            "96de41a792df4ac6a1e5e4d7a75807a9",
            "aee1ef2bf1cd427cbe5d63b99506d9d4",
            "f8882c843e8a4bfab77a6b3081d28ca1",
            "8bb03dd331894789ba61c9c4ba1e6f2b",
            "24c13e3ad0bf46b59b49559448d1733b",
            "28735d64cda8479db3a462a4e1d900f2",
            "b2fe1d6682ba41c9a5ae4b3f9af8a1f6",
            "053c3e8a9d934573b73021da98e823f5",
            "47507f667100490d8e0d688e2bd959aa",
            "b24cc1efb04f4da9af13bc1f79839329",
            "2380c8e1fd8b401a832c0308687b0a69",
            "257be9d275f345eab88c6c99f0aac385",
            "bd2dc8e1b2264d10a08c6c167440a9b8",
            "f2432262001f47db8e7a85bdc524ea42",
            "10b74856de314d3fbb524ee985bdff17",
            "77a8e604010b40f0ad549fd530c14c07",
            "319ce73f5fb042a892a721a54149a04a",
            "759229bb8b8549bd8799471fbeca5a03",
            "17cf9be8baf54850b79cb4db53b54c66",
            "4de320f7bb7c4155a2a5c3194c99e96b",
            "aa2c30e75cdd4b03a2d8bff84340cc6d",
            "e64979fc59bc421fabbcc4b4093287b5",
            "4b7331ca9724444987d97278b3023b88",
            "4fe8d6e610c24490bc0886346ff17606",
            "6c224b705f1e4d8fa7bd3137b9e2f768",
            "453b268e8cad4811b4d0f3fdff694e0f",
            "4b51fcdac88b4a388d29e127f8093000",
            "3689561e11c24c7e99c505887bcef532",
            "cd0e7fd66b9240d4a0a83bf4218a4582",
            "208050b1137e4325af62e8f6842ef852",
            "2ed37c58f9af4928bcf7cd98f7d520c8",
            "c33ddc300bc54ea5921e96c2b5123be0",
            "f4bf164f063a408da2aba1d2b3508b70",
            "dc2f78690eb5485495f8b38232910eed",
            "246bebf4153447a883f24dc9f46ef651",
            "0bcba4bc15c3447590ae8e94e4c77140",
            "188b7065bb6d44fd8532808c8af94566",
            "2a22ae4c82074d20b1cdcd73d22c1598",
            "26b2576bf5ce46f6b055fca1add361bc",
            "44721b2205c849e09ac21f394eba45b0",
            "45dfe841f8d14cf29bcfb3ec580f4571",
            "065c749bf6c24f33b687235a7e643ddd",
            "ac0b3929c0a74896a8f92e571e512eef",
            "c6ee588289e54253a575c8eeb02f2269",
            "e17247584602422a96ae485069042af7",
            "6cb33326105341c488a7d3098a7fae53",
            "2d696a6513914dbaa031336d628094fe",
            "845996e1c83643a5bc615816ce6b27fb",
            "74c7ef2fcb0b44e9ae56f274b5129adb",
            "dd761f7ae44c4fc8b0f2d057f5b93168",
            "700fd97857464199ac7455a52feb94df",
            "c9726d1fe2354e43937b5060efa4a35f",
            "f01813db983143e9973567b6a0fbf552",
            "dbf86e885d284b498a1a72f0cf9fc971",
            "be2304d6b59646c7ba614f1936dadf23",
            "93b961fd5b0d461081bb432f1316f1b5",
            "b1a506c8e59d4ba9b782d06cf1861701",
            "fd2aa29540d547d6b7c3d582fe014f26",
            "06e5e4609b3a4cf3aad60d929b1dcb99",
            "fedc5bdb0b764b109e03adc6224509fc",
            "3b894079d09541dd978bb475a556dcc3",
            "127604f9533d436cbfcf55ebddf854a2",
            "b5f7a9fffc6f47ca83bef01baf22aa85",
            "ef27a32238214a898efcff6c0c4f44f3",
            "31e11bf92d574b9d99f14a22a81d9d71",
            "182cf218367e4e7687dc7e4ab815e16c",
            "7ef07d5a25e14aafa6e521eed2b63bb5",
            "bad370f47d9a4c57b9992c43d155ade7",
            "f48cad3a0746445db4d5eb93ce7a9c08",
            "810de61a84494f7ba3ffbf8abb94030c",
            "f5c5f5dc0133411fa6414e9dd02aa1a9",
            "e0ec74bec6b5484590191092f660046f",
            "c065ca26035542cb89efd620710abbc5",
            "ca87737a38ca42579246eea3f2af21b7",
            "fdcb3dca66954816b75169cee002c2ee",
            "0e6a2b705f6b406dbb1e239a4e13b34d",
            "13ea8d271f8443eaaa2620c42d04a0c3",
            "482cab1bf8254c23a411602d48a9f123",
            "b3e7ba6a828449a89e9d6d57a492cd92",
            "bb62e9a194a84ae3aefa2ed2bb100d2b",
            "4ed080cdeb604adcad843be8262d9211",
            "312a6a305ce044c0b9c924f76e1ec31e",
            "fe0cd6ef6c3c4bfa813bdb92f0eab67e",
            "dd2c779ff88645dba1133a64fa1ed5a0",
            "502e94d8bf7f480daabc55112db01437",
            "a09ef8f8592b4b5f9327b1b9ded852bf",
            "d2ad8d7fa5c84e3a83b52450c52668e7",
            "b4f5bdee83254beebc51fc66ae292467",
            "2d8be559094d4700a27f9f141201ad9c",
            "93e2ae73a9b444b7b85520a71bffe3bf",
            "649cd668065a451d82d2e4022b7e6d4f",
            "83c66e043d884f719ba299300654aa12",
            "7d4c44edc79149a599fd2c70ecfb5955",
            "a8929206472c4997b9238007e799afb5",
            "f2d1a2ff9c744a5aba262cd4d8dbebb2",
            "94936d207c1444e6b299d5d4016ca4d1",
            "a5ee83f6914f404fbccd446f80b3fb8f",
            "fb82c64357414383aae8b97b675fbaeb",
            "7a1bbbb90ed648e092d26c33006ef8ea",
            "16510a24733b440a9dbe79a1d321b8be",
            "104ece40c80f4515851afb70bc9b979e",
            "e71a01d4dca6430a90d66480a004b131",
            "aba20e3792164e34994343df668ef37b"
          ]
        },
        "collapsed": true,
        "id": "SerX-LiC8iBe",
        "outputId": "9a45f0f5-98de-4eba-a0aa-214865d0a83d"
      },
      "execution_count": null,
      "outputs": [
        {
          "output_type": "stream",
          "name": "stderr",
          "text": [
            "/usr/local/lib/python3.10/dist-packages/huggingface_hub/utils/_auth.py:94: UserWarning: \n",
            "The secret `HF_TOKEN` does not exist in your Colab secrets.\n",
            "To authenticate with the Hugging Face Hub, create a token in your settings tab (https://huggingface.co/settings/tokens), set it as secret in your Google Colab and restart your session.\n",
            "You will be able to reuse this secret in all of your notebooks.\n",
            "Please note that authentication is recommended but still optional to access public models or datasets.\n",
            "  warnings.warn(\n"
          ]
        },
        {
          "output_type": "display_data",
          "data": {
            "text/plain": [
              "README.md:   0%|          | 0.00/1.02k [00:00<?, ?B/s]"
            ],
            "application/vnd.jupyter.widget-view+json": {
              "version_major": 2,
              "version_minor": 0,
              "model_id": "d19c78ab9e694e46b928756c1b3bea9a"
            }
          },
          "metadata": {}
        },
        {
          "output_type": "display_data",
          "data": {
            "text/plain": [
              "(…)-00000-of-00001-9ad84bb9cf65a42f.parquet:   0%|          | 0.00/967k [00:00<?, ?B/s]"
            ],
            "application/vnd.jupyter.widget-view+json": {
              "version_major": 2,
              "version_minor": 0,
              "model_id": "108e75239508439d9e12933077f942d4"
            }
          },
          "metadata": {}
        },
        {
          "output_type": "display_data",
          "data": {
            "text/plain": [
              "Generating train split:   0%|          | 0/1000 [00:00<?, ? examples/s]"
            ],
            "application/vnd.jupyter.widget-view+json": {
              "version_major": 2,
              "version_minor": 0,
              "model_id": "16a00ac54e1c4feb82125f92ef542303"
            }
          },
          "metadata": {}
        },
        {
          "output_type": "stream",
          "name": "stderr",
          "text": [
            "/usr/local/lib/python3.10/dist-packages/huggingface_hub/file_download.py:797: FutureWarning: `resume_download` is deprecated and will be removed in version 1.0.0. Downloads always resume when possible. If you want to force a new download, use `force_download=True`.\n",
            "  warnings.warn(\n"
          ]
        },
        {
          "output_type": "display_data",
          "data": {
            "text/plain": [
              "config.json:   0%|          | 0.00/583 [00:00<?, ?B/s]"
            ],
            "application/vnd.jupyter.widget-view+json": {
              "version_major": 2,
              "version_minor": 0,
              "model_id": "8bb21f6f84e841cbaa59629466764653"
            }
          },
          "metadata": {}
        },
        {
          "output_type": "display_data",
          "data": {
            "text/plain": [
              "model.safetensors.index.json:   0%|          | 0.00/26.8k [00:00<?, ?B/s]"
            ],
            "application/vnd.jupyter.widget-view+json": {
              "version_major": 2,
              "version_minor": 0,
              "model_id": "a83b217bbce54caba9e96d05d1106e50"
            }
          },
          "metadata": {}
        },
        {
          "output_type": "display_data",
          "data": {
            "text/plain": [
              "Downloading shards:   0%|          | 0/2 [00:00<?, ?it/s]"
            ],
            "application/vnd.jupyter.widget-view+json": {
              "version_major": 2,
              "version_minor": 0,
              "model_id": "a347fecf62a344cdafb234a50c79b8f0"
            }
          },
          "metadata": {}
        },
        {
          "output_type": "display_data",
          "data": {
            "text/plain": [
              "model-00001-of-00002.safetensors:   0%|          | 0.00/9.98G [00:00<?, ?B/s]"
            ],
            "application/vnd.jupyter.widget-view+json": {
              "version_major": 2,
              "version_minor": 0,
              "model_id": "016e1aaaf81644d69eccb1358179c015"
            }
          },
          "metadata": {}
        },
        {
          "output_type": "display_data",
          "data": {
            "text/plain": [
              "model-00002-of-00002.safetensors:   0%|          | 0.00/3.50G [00:00<?, ?B/s]"
            ],
            "application/vnd.jupyter.widget-view+json": {
              "version_major": 2,
              "version_minor": 0,
              "model_id": "24c13e3ad0bf46b59b49559448d1733b"
            }
          },
          "metadata": {}
        },
        {
          "output_type": "display_data",
          "data": {
            "text/plain": [
              "Loading checkpoint shards:   0%|          | 0/2 [00:00<?, ?it/s]"
            ],
            "application/vnd.jupyter.widget-view+json": {
              "version_major": 2,
              "version_minor": 0,
              "model_id": "77a8e604010b40f0ad549fd530c14c07"
            }
          },
          "metadata": {}
        },
        {
          "output_type": "display_data",
          "data": {
            "text/plain": [
              "generation_config.json:   0%|          | 0.00/200 [00:00<?, ?B/s]"
            ],
            "application/vnd.jupyter.widget-view+json": {
              "version_major": 2,
              "version_minor": 0,
              "model_id": "4b51fcdac88b4a388d29e127f8093000"
            }
          },
          "metadata": {}
        },
        {
          "output_type": "display_data",
          "data": {
            "text/plain": [
              "tokenizer_config.json:   0%|          | 0.00/746 [00:00<?, ?B/s]"
            ],
            "application/vnd.jupyter.widget-view+json": {
              "version_major": 2,
              "version_minor": 0,
              "model_id": "2a22ae4c82074d20b1cdcd73d22c1598"
            }
          },
          "metadata": {}
        },
        {
          "output_type": "display_data",
          "data": {
            "text/plain": [
              "tokenizer.model:   0%|          | 0.00/500k [00:00<?, ?B/s]"
            ],
            "application/vnd.jupyter.widget-view+json": {
              "version_major": 2,
              "version_minor": 0,
              "model_id": "74c7ef2fcb0b44e9ae56f274b5129adb"
            }
          },
          "metadata": {}
        },
        {
          "output_type": "display_data",
          "data": {
            "text/plain": [
              "tokenizer.json:   0%|          | 0.00/1.84M [00:00<?, ?B/s]"
            ],
            "application/vnd.jupyter.widget-view+json": {
              "version_major": 2,
              "version_minor": 0,
              "model_id": "fedc5bdb0b764b109e03adc6224509fc"
            }
          },
          "metadata": {}
        },
        {
          "output_type": "display_data",
          "data": {
            "text/plain": [
              "added_tokens.json:   0%|          | 0.00/21.0 [00:00<?, ?B/s]"
            ],
            "application/vnd.jupyter.widget-view+json": {
              "version_major": 2,
              "version_minor": 0,
              "model_id": "f5c5f5dc0133411fa6414e9dd02aa1a9"
            }
          },
          "metadata": {}
        },
        {
          "output_type": "display_data",
          "data": {
            "text/plain": [
              "special_tokens_map.json:   0%|          | 0.00/435 [00:00<?, ?B/s]"
            ],
            "application/vnd.jupyter.widget-view+json": {
              "version_major": 2,
              "version_minor": 0,
              "model_id": "312a6a305ce044c0b9c924f76e1ec31e"
            }
          },
          "metadata": {}
        },
        {
          "output_type": "stream",
          "name": "stderr",
          "text": [
            "/usr/local/lib/python3.10/dist-packages/peft/utils/other.py:102: FutureWarning: prepare_model_for_int8_training is deprecated and will be removed in a future version. Use prepare_model_for_kbit_training instead.\n",
            "  warnings.warn(\n",
            "/usr/local/lib/python3.10/dist-packages/trl/trainer/sft_trainer.py:159: UserWarning: You didn't pass a `max_seq_length` argument to the SFTTrainer, this will default to 1024\n",
            "  warnings.warn(\n"
          ]
        },
        {
          "output_type": "display_data",
          "data": {
            "text/plain": [
              "Map:   0%|          | 0/1000 [00:00<?, ? examples/s]"
            ],
            "application/vnd.jupyter.widget-view+json": {
              "version_major": 2,
              "version_minor": 0,
              "model_id": "7d4c44edc79149a599fd2c70ecfb5955"
            }
          },
          "metadata": {}
        },
        {
          "output_type": "stream",
          "name": "stderr",
          "text": [
            "You're using a LlamaTokenizerFast tokenizer. Please note that with a fast tokenizer, using the `__call__` method is faster than using a method to encode the text followed by a call to the `pad` method to get a padded encoding.\n",
            "/usr/local/lib/python3.10/dist-packages/torch/_dynamo/eval_frame.py:632: UserWarning: torch.utils.checkpoint: the use_reentrant parameter should be passed explicitly. In version 2.5 we will raise an exception if use_reentrant is not passed. use_reentrant=False is recommended, but if you need to preserve the current default behavior, you can pass use_reentrant=True. Refer to docs for more details on the differences between the two variants.\n",
            "  return fn(*args, **kwargs)\n"
          ]
        },
        {
          "output_type": "display_data",
          "data": {
            "text/plain": [
              "<IPython.core.display.HTML object>"
            ],
            "text/html": [
              "\n",
              "    <div>\n",
              "      \n",
              "      <progress value='250' max='250' style='width:300px; height:20px; vertical-align: middle;'></progress>\n",
              "      [250/250 25:17, Epoch 1/1]\n",
              "    </div>\n",
              "    <table border=\"1\" class=\"dataframe\">\n",
              "  <thead>\n",
              " <tr style=\"text-align: left;\">\n",
              "      <th>Step</th>\n",
              "      <th>Training Loss</th>\n",
              "    </tr>\n",
              "  </thead>\n",
              "  <tbody>\n",
              "    <tr>\n",
              "      <td>25</td>\n",
              "      <td>1.408100</td>\n",
              "    </tr>\n",
              "    <tr>\n",
              "      <td>50</td>\n",
              "      <td>1.661500</td>\n",
              "    </tr>\n",
              "    <tr>\n",
              "      <td>75</td>\n",
              "      <td>1.214600</td>\n",
              "    </tr>\n",
              "    <tr>\n",
              "      <td>100</td>\n",
              "      <td>1.445800</td>\n",
              "    </tr>\n",
              "    <tr>\n",
              "      <td>125</td>\n",
              "      <td>1.176400</td>\n",
              "    </tr>\n",
              "    <tr>\n",
              "      <td>150</td>\n",
              "      <td>1.365400</td>\n",
              "    </tr>\n",
              "    <tr>\n",
              "      <td>175</td>\n",
              "      <td>1.173800</td>\n",
              "    </tr>\n",
              "    <tr>\n",
              "      <td>200</td>\n",
              "      <td>1.466500</td>\n",
              "    </tr>\n",
              "    <tr>\n",
              "      <td>225</td>\n",
              "      <td>1.158000</td>\n",
              "    </tr>\n",
              "    <tr>\n",
              "      <td>250</td>\n",
              "      <td>1.542300</td>\n",
              "    </tr>\n",
              "  </tbody>\n",
              "</table><p>"
            ]
          },
          "metadata": {}
        },
        {
          "output_type": "execute_result",
          "data": {
            "text/plain": [
              "TrainOutput(global_step=250, training_loss=1.3612370300292969, metrics={'train_runtime': 1533.1941, 'train_samples_per_second': 0.652, 'train_steps_per_second': 0.163, 'total_flos': 8755214190673920.0, 'train_loss': 1.3612370300292969, 'epoch': 1.0})"
            ]
          },
          "metadata": {},
          "execution_count": 6
        }
      ]
    },
    {
      "cell_type": "code",
      "source": [
        "# Save trained model\n",
        "trainer.model.save_pretrained(new_model)"
      ],
      "metadata": {
        "id": "dZSlJbVbKapS"
      },
      "execution_count": null,
      "outputs": []
    },
    {
      "cell_type": "code",
      "source": [
        "# %load_ext tensorboard\n",
        "# %tensorboard --logdir results/runs"
      ],
      "metadata": {
        "id": "fz92zxCE7s_X"
      },
      "execution_count": null,
      "outputs": []
    },
    {
      "cell_type": "code",
      "source": [
        "# Ignore warnings\n",
        "logging.set_verbosity(logging.CRITICAL)\n",
        "\n",
        "# Run text generation pipeline with our next model\n",
        "prompt = \"What is a large language model?\"\n",
        "pipe = pipeline(task=\"text-generation\", model=model, tokenizer=tokenizer, max_length=200)\n",
        "result = pipe(f\"<s>[INST] {prompt} [/INST]\")\n",
        "print(result[0]['generated_text'])"
      ],
      "metadata": {
        "id": "rz1nkshi7xa_"
      },
      "execution_count": null,
      "outputs": []
    }
  ]
}